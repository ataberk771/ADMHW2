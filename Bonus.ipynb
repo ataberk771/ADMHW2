{
 "cells": [
  {
   "cell_type": "code",
   "execution_count": 130,
   "id": "596d7b7f-7f8c-493d-9bc1-a3926707b1b4",
   "metadata": {},
   "outputs": [
    {
     "name": "stdout",
     "output_type": "stream",
     "text": [
      "                         AppID          Name Release date  Estimated owners  \\\n",
      "20200         Galactic Bowling  Oct 21, 2008    0 - 20000                 0   \n",
      "655370            Train Bandit  Oct 12, 2017    0 - 20000                 0   \n",
      "1732930           Jolt Project  Nov 17, 2021    0 - 20000                 0   \n",
      "1355720               Henosis™  Jul 23, 2020    0 - 20000                 0   \n",
      "1139950  Two Weeks in Painland   Feb 3, 2020    0 - 20000                 0   \n",
      "\n",
      "         Peak CCU  Required age  Price  DiscountDLC count  \\\n",
      "20200           0         19.99      0                  0   \n",
      "655370          0          0.99      0                  0   \n",
      "1732930         0          4.99      0                  0   \n",
      "1355720         0          5.99      0                  0   \n",
      "1139950         0          0.00      0                  0   \n",
      "\n",
      "                                            About the game  \\\n",
      "20200    Galactic Bowling is an exaggerated and stylize...   \n",
      "655370   THE LAW!! Looks to be a showdown atop a train....   \n",
      "1732930  Jolt Project: The army now has a new robotics ...   \n",
      "1355720  HENOSIS™ is a mysterious 2D Platform Puzzler w...   \n",
      "1139950  ABOUT THE GAME Play as a hacker who has arrang...   \n",
      "\n",
      "                                       Supported languages  ...  \\\n",
      "20200                                          ['English']  ...   \n",
      "655370   ['English', 'French', 'Italian', 'German', 'Sp...  ...   \n",
      "1732930                 ['English', 'Portuguese - Brazil']  ...   \n",
      "1355720  ['English', 'French', 'Italian', 'German', 'Sp...  ...   \n",
      "1139950                     ['English', 'Spanish - Spain']  ...   \n",
      "\n",
      "        Average playtime two weeks Median playtime forever  \\\n",
      "20200                            0                       0   \n",
      "655370                           0                       0   \n",
      "1732930                          0                       0   \n",
      "1355720                          0                       0   \n",
      "1139950                          0                       0   \n",
      "\n",
      "        Median playtime two weeks             Developers  \\\n",
      "20200                           0  Perpetual FX Creative   \n",
      "655370                          0           Rusty Moyher   \n",
      "1732930                         0          Campião Games   \n",
      "1355720                         0      Odd Critter Games   \n",
      "1139950                         0          Unusual Games   \n",
      "\n",
      "                    Publishers  \\\n",
      "20200    Perpetual FX Creative   \n",
      "655370            Wild Rooster   \n",
      "1732930          Campião Games   \n",
      "1355720      Odd Critter Games   \n",
      "1139950          Unusual Games   \n",
      "\n",
      "                                                Categories  \\\n",
      "20200    Single-player,Multi-player,Steam Achievements,...   \n",
      "655370   Single-player,Steam Achievements,Full controll...   \n",
      "1732930                                      Single-player   \n",
      "1355720              Single-player,Full controller support   \n",
      "1139950                   Single-player,Steam Achievements   \n",
      "\n",
      "                                  Genres  \\\n",
      "20200                Casual,Indie,Sports   \n",
      "655370                      Action,Indie   \n",
      "1732930  Action,Adventure,Indie,Strategy   \n",
      "1355720           Adventure,Casual,Indie   \n",
      "1139950                  Adventure,Indie   \n",
      "\n",
      "                                                      Tags  \\\n",
      "20200                          Indie,Casual,Sports,Bowling   \n",
      "655370   Indie,Action,Pixel Graphics,2D,Retro,Arcade,Sc...   \n",
      "1732930                                                NaN   \n",
      "1355720  2D Platformer,Atmospheric,Surreal,Mystery,Puzz...   \n",
      "1139950  Indie,Adventure,Nudity,Violent,Sexual Content,...   \n",
      "\n",
      "                                               Screenshots  \\\n",
      "20200    https://cdn.akamai.steamstatic.com/steam/apps/...   \n",
      "655370   https://cdn.akamai.steamstatic.com/steam/apps/...   \n",
      "1732930  https://cdn.akamai.steamstatic.com/steam/apps/...   \n",
      "1355720  https://cdn.akamai.steamstatic.com/steam/apps/...   \n",
      "1139950  https://cdn.akamai.steamstatic.com/steam/apps/...   \n",
      "\n",
      "                                                    Movies  \n",
      "20200    http://cdn.akamai.steamstatic.com/steam/apps/2...  \n",
      "655370   http://cdn.akamai.steamstatic.com/steam/apps/2...  \n",
      "1732930  http://cdn.akamai.steamstatic.com/steam/apps/2...  \n",
      "1355720  http://cdn.akamai.steamstatic.com/steam/apps/2...  \n",
      "1139950  http://cdn.akamai.steamstatic.com/steam/apps/2...  \n",
      "\n",
      "[5 rows x 39 columns]\n"
     ]
    }
   ],
   "source": [
    "import pandas as pd\n",
    "\n",
    "csv_file_path = '/Users/ataberkfirat/Desktop/games.csv'\n",
    "\n",
    "df_csv = pd.read_csv(csv_file_path)\n",
    "\n",
    "print(df_csv.head())\n"
   ]
  },
  {
   "cell_type": "code",
   "execution_count": 132,
   "id": "d27c9670-5a2d-4657-8e0d-d344dcf7ff1e",
   "metadata": {},
   "outputs": [
    {
     "name": "stdout",
     "output_type": "stream",
     "text": [
      "                       20200         655370        1732930       1355720  \\\n",
      "name          Galactic Bowling  Train Bandit  Jolt Project      Henosis™   \n",
      "release_date      Oct 21, 2008  Oct 12, 2017  Nov 17, 2021  Jul 23, 2020   \n",
      "required_age                 0             0             0             0   \n",
      "price                    19.99          0.99          4.99          5.99   \n",
      "dlc_count                    0             0             0             0   \n",
      "\n",
      "                            1139950         1469160      1659180  \\\n",
      "name          Two Weeks in Painland  Wartune Reborn    TD Worlds   \n",
      "release_date            Feb 3, 2020    Feb 26, 2021  Jan 9, 2022   \n",
      "required_age                      0               0            0   \n",
      "price                           0.0             0.0        10.99   \n",
      "dlc_count                         0               0            1   \n",
      "\n",
      "                                         1968760                1178150  \\\n",
      "name          Legend of Rome - The Wrath of Mars  MazM: Jekyll and Hyde   \n",
      "release_date                         May 5, 2022            Apr 2, 2020   \n",
      "required_age                                   0                      0   \n",
      "price                                       9.99                  14.99   \n",
      "dlc_count                                      0                      0   \n",
      "\n",
      "                                320150   ...       3148680  \\\n",
      "name          Deadlings: Rotten Edition  ...         Guard   \n",
      "release_date               Nov 11, 2014  ...  Aug 23, 2024   \n",
      "required_age                          0  ...             0   \n",
      "price                              3.99  ...          0.59   \n",
      "dlc_count                             0  ...             0   \n",
      "\n",
      "                                  2435240          2214970       3165130  \\\n",
      "name          Sulphur Memories: Alchemist  Get To The Gate   SLIME ORDER   \n",
      "release_date                  Aug 9, 2024     Aug 19, 2024  Aug 28, 2024   \n",
      "required_age                            0                0             0   \n",
      "price                               11.99            19.99          0.99   \n",
      "dlc_count                               0                0             0   \n",
      "\n",
      "                      3199580                 3080940       2593970  \\\n",
      "name          Carbon Playtest  Femdom Game World: Mom   Blocky Farm   \n",
      "release_date      Sep 1, 2024            Aug 22, 2024  Aug 30, 2024   \n",
      "required_age                0                       0             0   \n",
      "price                     0.0                    4.19          8.99   \n",
      "dlc_count                   0                       0             0   \n",
      "\n",
      "                           3137150            3124670       3054200  \n",
      "name          Infiltrate & Extract  Escape The Garage    Lober Lobe  \n",
      "release_date          Aug 30, 2024       Aug 29, 2024  Aug 30, 2024  \n",
      "required_age                     0                  0             0  \n",
      "price                          0.0               4.99          4.49  \n",
      "dlc_count                        0                  0             0  \n",
      "\n",
      "[5 rows x 97410 columns]\n"
     ]
    }
   ],
   "source": [
    "json_file_path = '/Users/ataberkfirat/Desktop/games.json'\n",
    "\n",
    "df_json = pd.read_json(json_file_path)\n",
    "\n",
    "print(df_json.head())\n"
   ]
  },
  {
   "cell_type": "code",
   "execution_count": 133,
   "id": "90498b19-80c9-40a5-b53a-538eb6176a60",
   "metadata": {},
   "outputs": [
    {
     "name": "stdout",
     "output_type": "stream",
     "text": [
      "Requirement already satisfied: textblob in /opt/anaconda3/lib/python3.12/site-packages (0.18.0.post0)\n",
      "Requirement already satisfied: nltk>=3.8 in /opt/anaconda3/lib/python3.12/site-packages (from textblob) (3.9.1)\n",
      "Requirement already satisfied: click in /opt/anaconda3/lib/python3.12/site-packages (from nltk>=3.8->textblob) (8.1.7)\n",
      "Requirement already satisfied: joblib in /opt/anaconda3/lib/python3.12/site-packages (from nltk>=3.8->textblob) (1.4.2)\n",
      "Requirement already satisfied: regex>=2021.8.3 in /opt/anaconda3/lib/python3.12/site-packages (from nltk>=3.8->textblob) (2024.9.11)\n",
      "Requirement already satisfied: tqdm in /opt/anaconda3/lib/python3.12/site-packages (from nltk>=3.8->textblob) (4.66.5)\n"
     ]
    }
   ],
   "source": [
    "!pip install textblob"
   ]
  },
  {
   "cell_type": "code",
   "execution_count": 134,
   "id": "23986414-818b-4e9f-97e6-60f2404df999",
   "metadata": {},
   "outputs": [
    {
     "name": "stdout",
     "output_type": "stream",
     "text": [
      "Index(['AppID', 'Name', 'Release date', 'Estimated owners', 'Peak CCU',\n",
      "       'Required age', 'Price', 'DiscountDLC count', 'About the game',\n",
      "       'Supported languages', 'Full audio languages', 'Reviews',\n",
      "       'Header image', 'Website', 'Support url', 'Support email', 'Windows',\n",
      "       'Mac', 'Linux', 'Metacritic score', 'Metacritic url', 'User score',\n",
      "       'Positive', 'Negative', 'Score rank', 'Achievements', 'Recommendations',\n",
      "       'Notes', 'Average playtime forever', 'Average playtime two weeks',\n",
      "       'Median playtime forever', 'Median playtime two weeks', 'Developers',\n",
      "       'Publishers', 'Categories', 'Genres', 'Tags', 'Screenshots', 'Movies'],\n",
      "      dtype='object')\n"
     ]
    }
   ],
   "source": [
    "print(df_csv.columns)"
   ]
  },
  {
   "cell_type": "code",
   "execution_count": 142,
   "id": "bbc9a25b-6361-4a91-acca-b16c7ec79a71",
   "metadata": {},
   "outputs": [
    {
     "data": {
      "text/plain": [
       "Supported languages\n",
       "['English']               48597\n",
       "[]                         4831\n",
       "['English', 'Russian']     2712\n",
       "Name: count, dtype: int64"
      ]
     },
     "execution_count": 142,
     "metadata": {},
     "output_type": "execute_result"
    }
   ],
   "source": [
    "from textblob import TextBlob\n",
    "df_csv = pd.read_csv('/Users/ataberkfirat/Desktop/games.csv')\n",
    "three_top_lan = df_csv['Supported languages'].value_counts().head(3)\n",
    "three_top_lan"
   ]
  },
  {
   "cell_type": "code",
   "execution_count": null,
   "id": "70b4ab12-1301-4930-b933-6f72f6fce533",
   "metadata": {},
   "outputs": [],
   "source": [
    "df_eng = df_csv[df_csv['Supported languages']=='English']"
   ]
  },
  {
   "cell_type": "code",
   "execution_count": null,
   "id": "fa10ae10-5eac-4ddf-a8e8-c09a18c86eaf",
   "metadata": {},
   "outputs": [],
   "source": [
    "df_eng['sentiment'] = sentiment_analysis(df_eng)"
   ]
  },
  {
   "cell_type": "code",
   "execution_count": null,
   "id": "10b3cd68-519d-4d02-83e6-4c15f04e0d3d",
   "metadata": {},
   "outputs": [],
   "source": [
    "df_eng.loc[df_eng.sentiment == 0.0, ['sentiment']] = 'neutral'\n",
    "print(df_eng['sentiment'].value_counts())"
   ]
  },
  {
   "cell_type": "code",
   "execution_count": 176,
   "id": "4692de59-0a0f-49da-a2eb-40651552c65c",
   "metadata": {},
   "outputs": [
    {
     "name": "stdout",
     "output_type": "stream",
     "text": [
      "False\n"
     ]
    }
   ],
   "source": [
    "print(df_eng.empty)"
   ]
  },
  {
   "cell_type": "code",
   "execution_count": 178,
   "id": "ef99693e-9a67-4f23-b73e-0678f3f3c513",
   "metadata": {},
   "outputs": [
    {
     "name": "stdout",
     "output_type": "stream",
     "text": [
      "                         AppID          Name Release date  Estimated owners  \\\n",
      "20200         Galactic Bowling  Oct 21, 2008    0 - 20000                 0   \n",
      "655370            Train Bandit  Oct 12, 2017    0 - 20000                 0   \n",
      "1732930           Jolt Project  Nov 17, 2021    0 - 20000                 0   \n",
      "1355720               Henosis™  Jul 23, 2020    0 - 20000                 0   \n",
      "1139950  Two Weeks in Painland   Feb 3, 2020    0 - 20000                 0   \n",
      "\n",
      "         Peak CCU  Required age  Price  DiscountDLC count  \\\n",
      "20200           0         19.99      0                  0   \n",
      "655370          0          0.99      0                  0   \n",
      "1732930         0          4.99      0                  0   \n",
      "1355720         0          5.99      0                  0   \n",
      "1139950         0          0.00      0                  0   \n",
      "\n",
      "                                            About the game  \\\n",
      "20200    Galactic Bowling is an exaggerated and stylize...   \n",
      "655370   THE LAW!! Looks to be a showdown atop a train....   \n",
      "1732930  Jolt Project: The army now has a new robotics ...   \n",
      "1355720  HENOSIS™ is a mysterious 2D Platform Puzzler w...   \n",
      "1139950  ABOUT THE GAME Play as a hacker who has arrang...   \n",
      "\n",
      "                                       Supported languages  ...  \\\n",
      "20200                                          ['English']  ...   \n",
      "655370   ['English', 'French', 'Italian', 'German', 'Sp...  ...   \n",
      "1732930                 ['English', 'Portuguese - Brazil']  ...   \n",
      "1355720  ['English', 'French', 'Italian', 'German', 'Sp...  ...   \n",
      "1139950                     ['English', 'Spanish - Spain']  ...   \n",
      "\n",
      "        Median playtime forever Median playtime two weeks  \\\n",
      "20200                         0                         0   \n",
      "655370                        0                         0   \n",
      "1732930                       0                         0   \n",
      "1355720                       0                         0   \n",
      "1139950                       0                         0   \n",
      "\n",
      "                    Developers             Publishers  \\\n",
      "20200    Perpetual FX Creative  Perpetual FX Creative   \n",
      "655370            Rusty Moyher           Wild Rooster   \n",
      "1732930          Campião Games          Campião Games   \n",
      "1355720      Odd Critter Games      Odd Critter Games   \n",
      "1139950          Unusual Games          Unusual Games   \n",
      "\n",
      "                                                Categories  \\\n",
      "20200    Single-player,Multi-player,Steam Achievements,...   \n",
      "655370   Single-player,Steam Achievements,Full controll...   \n",
      "1732930                                      Single-player   \n",
      "1355720              Single-player,Full controller support   \n",
      "1139950                   Single-player,Steam Achievements   \n",
      "\n",
      "                                  Genres  \\\n",
      "20200                Casual,Indie,Sports   \n",
      "655370                      Action,Indie   \n",
      "1732930  Action,Adventure,Indie,Strategy   \n",
      "1355720           Adventure,Casual,Indie   \n",
      "1139950                  Adventure,Indie   \n",
      "\n",
      "                                                      Tags  \\\n",
      "20200                          Indie,Casual,Sports,Bowling   \n",
      "655370   Indie,Action,Pixel Graphics,2D,Retro,Arcade,Sc...   \n",
      "1732930                                                NaN   \n",
      "1355720  2D Platformer,Atmospheric,Surreal,Mystery,Puzz...   \n",
      "1139950  Indie,Adventure,Nudity,Violent,Sexual Content,...   \n",
      "\n",
      "                                               Screenshots  \\\n",
      "20200    https://cdn.akamai.steamstatic.com/steam/apps/...   \n",
      "655370   https://cdn.akamai.steamstatic.com/steam/apps/...   \n",
      "1732930  https://cdn.akamai.steamstatic.com/steam/apps/...   \n",
      "1355720  https://cdn.akamai.steamstatic.com/steam/apps/...   \n",
      "1139950  https://cdn.akamai.steamstatic.com/steam/apps/...   \n",
      "\n",
      "                                                    Movies  sentiment  \n",
      "20200    http://cdn.akamai.steamstatic.com/steam/apps/2...    neutral  \n",
      "655370   http://cdn.akamai.steamstatic.com/steam/apps/2...    neutral  \n",
      "1732930  http://cdn.akamai.steamstatic.com/steam/apps/2...    neutral  \n",
      "1355720  http://cdn.akamai.steamstatic.com/steam/apps/2...    neutral  \n",
      "1139950  http://cdn.akamai.steamstatic.com/steam/apps/2...    neutral  \n",
      "\n",
      "[5 rows x 40 columns]\n"
     ]
    }
   ],
   "source": [
    "print(df_eng.head())"
   ]
  },
  {
   "cell_type": "code",
   "execution_count": null,
   "id": "f0497616-4de0-452b-a118-838056be7ff8",
   "metadata": {},
   "outputs": [],
   "source": []
  },
  {
   "cell_type": "code",
   "execution_count": 172,
   "id": "72ff0135-3c5c-4284-87d1-4edd459f709b",
   "metadata": {},
   "outputs": [],
   "source": [
    "from textblob import TextBlob\n",
    "\n",
    "def get_sentiment(text):\n",
    "    if isinstance(text, str): \n",
    "        analysis = TextBlob(text)\n",
    "        if analysis.sentiment.polarity > 0:\n",
    "            return 'positive'\n",
    "        elif analysis.sentiment.polarity < 0:\n",
    "            return 'negative'\n",
    "        else:\n",
    "            return 'neutral'\n",
    "    else:\n",
    "        return 'neutral'\n",
    "\n",
    "df_eng.loc[:, 'sentiment'] = df_eng['Reviews'].apply(get_sentiment)\n",
    "\n"
   ]
  },
  {
   "cell_type": "code",
   "execution_count": 182,
   "id": "8e7395b6-d972-4ece-ac69-c2c1a84ce940",
   "metadata": {},
   "outputs": [
    {
     "name": "stdout",
     "output_type": "stream",
     "text": [
      "sentiment\n",
      "neutral     0.891165\n",
      "positive    0.093583\n",
      "negative    0.015252\n",
      "Name: proportion, dtype: float64\n"
     ]
    },
    {
     "data": {
      "text/plain": [
       "<Axes: xlabel='sentiment'>"
      ]
     },
     "execution_count": 182,
     "metadata": {},
     "output_type": "execute_result"
    },
    {
     "data": {
      "image/png": "[encoded data removed]",
      "text/plain": [
       "<Figure size 640x480 with 1 Axes>"
      ]
     },
     "metadata": {},
     "output_type": "display_data"
    }
   ],
   "source": [
    "#Second Bonus challenge for English language\n",
    "\n",
    "#Sentiment distribution in percentages\n",
    "print(df_eng['sentiment'].value_counts(normalize=True))\n",
    "\n",
    "#Plot bar\n",
    "df_eng['sentiment'].value_counts(normalize=True).plot.bar()\n"
   ]
  },
  {
   "cell_type": "code",
   "execution_count": 186,
   "id": "02e7f633-7f40-4e33-b5db-1a459cfea580",
   "metadata": {},
   "outputs": [
    {
     "data": {
      "text/plain": [
       "<Axes: xlabel='Recommendations'>"
      ]
     },
     "execution_count": 186,
     "metadata": {},
     "output_type": "execute_result"
    },
    {
     "data": {
      "image/png": "[encoded data removed]",
      "text/plain": [
       "<Figure size 640x480 with 1 Axes>"
      ]
     },
     "metadata": {},
     "output_type": "display_data"
    }
   ],
   "source": [
    "#Third Bonus challenge for English language\n",
    "df_eng['Recommendations'].value_counts(normalize=True).plot.bar()"
   ]
  },
  {
   "cell_type": "code",
   "execution_count": 194,
   "id": "9486d96e-6241-4ebb-8bdb-e74249098bf5",
   "metadata": {},
   "outputs": [],
   "source": [
    "df_eng.loc[:, 'sentiment_bin'] = df_eng['sentiment'].apply(lambda x: 0 if x == 'negative' else 1)\n",
    "df_eng = df_eng.copy()\n",
    "df_eng['sentiment_bin'] = df_eng['sentiment'].apply(lambda x: 0 if x == 'negative' else 1)\n"
   ]
  },
  {
   "cell_type": "code",
   "execution_count": 202,
   "id": "fc107bf8-af51-446d-9fc7-4aa3c7f23ced",
   "metadata": {},
   "outputs": [
    {
     "name": "stdout",
     "output_type": "stream",
     "text": [
      "Point-Biserial Correlation: -0.004941974039607419\n",
      "P-Value: 0.14207149786439635\n"
     ]
    }
   ],
   "source": [
    "df_eng_cleaned = df_eng.dropna(subset=['sentiment_bin', 'User score'])\n",
    "\n",
    "from scipy.stats import pointbiserialr\n",
    "\n",
    "correlation, p_value = pointbiserialr(df_eng_cleaned['sentiment_bin'], df_eng_cleaned['User score'])\n",
    "print(f\"Point-Biserial Correlation: {correlation}\")\n",
    "print(f\"P-Value: {p_value}\")\n"
   ]
  },
  {
   "cell_type": "code",
   "execution_count": 206,
   "id": "0c3766c9-dd24-48d6-8830-7211c88d90b6",
   "metadata": {},
   "outputs": [
    {
     "name": "stdout",
     "output_type": "stream",
     "text": [
      "Collecting googletrans==4.0.0-rc1\n",
      "  Downloading googletrans-4.0.0rc1.tar.gz (20 kB)\n",
      "  Preparing metadata (setup.py) ... \u001b[?25ldone\n",
      "\u001b[?25hCollecting httpx==0.13.3 (from googletrans==4.0.0-rc1)\n",
      "  Downloading httpx-0.13.3-py3-none-any.whl.metadata (25 kB)\n",
      "Requirement already satisfied: certifi in /opt/anaconda3/lib/python3.12/site-packages (from httpx==0.13.3->googletrans==4.0.0-rc1) (2024.8.30)\n",
      "Collecting hstspreload (from httpx==0.13.3->googletrans==4.0.0-rc1)\n",
      "  Downloading hstspreload-2024.11.1-py3-none-any.whl.metadata (2.1 kB)\n",
      "Requirement already satisfied: sniffio in /opt/anaconda3/lib/python3.12/site-packages (from httpx==0.13.3->googletrans==4.0.0-rc1) (1.3.0)\n",
      "Collecting chardet==3.* (from httpx==0.13.3->googletrans==4.0.0-rc1)\n",
      "  Downloading chardet-3.0.4-py2.py3-none-any.whl.metadata (3.2 kB)\n",
      "Collecting idna==2.* (from httpx==0.13.3->googletrans==4.0.0-rc1)\n",
      "  Downloading idna-2.10-py2.py3-none-any.whl.metadata (9.1 kB)\n",
      "Collecting rfc3986<2,>=1.3 (from httpx==0.13.3->googletrans==4.0.0-rc1)\n",
      "  Downloading rfc3986-1.5.0-py2.py3-none-any.whl.metadata (6.5 kB)\n",
      "Collecting httpcore==0.9.* (from httpx==0.13.3->googletrans==4.0.0-rc1)\n",
      "  Downloading httpcore-0.9.1-py3-none-any.whl.metadata (4.6 kB)\n",
      "Collecting h11<0.10,>=0.8 (from httpcore==0.9.*->httpx==0.13.3->googletrans==4.0.0-rc1)\n",
      "  Downloading h11-0.9.0-py2.py3-none-any.whl.metadata (8.1 kB)\n",
      "Collecting h2==3.* (from httpcore==0.9.*->httpx==0.13.3->googletrans==4.0.0-rc1)\n",
      "  Downloading h2-3.2.0-py2.py3-none-any.whl.metadata (32 kB)\n",
      "Collecting hyperframe<6,>=5.2.0 (from h2==3.*->httpcore==0.9.*->httpx==0.13.3->googletrans==4.0.0-rc1)\n",
      "  Downloading hyperframe-5.2.0-py2.py3-none-any.whl.metadata (7.2 kB)\n",
      "Collecting hpack<4,>=3.0 (from h2==3.*->httpcore==0.9.*->httpx==0.13.3->googletrans==4.0.0-rc1)\n",
      "  Downloading hpack-3.0.0-py2.py3-none-any.whl.metadata (7.0 kB)\n",
      "Downloading httpx-0.13.3-py3-none-any.whl (55 kB)\n",
      "Downloading chardet-3.0.4-py2.py3-none-any.whl (133 kB)\n",
      "Downloading httpcore-0.9.1-py3-none-any.whl (42 kB)\n",
      "Downloading idna-2.10-py2.py3-none-any.whl (58 kB)\n",
      "Downloading h2-3.2.0-py2.py3-none-any.whl (65 kB)\n",
      "Downloading rfc3986-1.5.0-py2.py3-none-any.whl (31 kB)\n",
      "Downloading hstspreload-2024.11.1-py3-none-any.whl (1.2 MB)\n",
      "\u001b[2K   \u001b[90m━━━━━━━━━━━━━━━━━━━━━━━━━━━━━━━━━━━━━━━━\u001b[0m \u001b[32m1.2/1.2 MB\u001b[0m \u001b[31m3.6 MB/s\u001b[0m eta \u001b[36m0:00:00\u001b[0ma \u001b[36m0:00:01\u001b[0m\n",
      "\u001b[?25hDownloading h11-0.9.0-py2.py3-none-any.whl (53 kB)\n",
      "Downloading hpack-3.0.0-py2.py3-none-any.whl (38 kB)\n",
      "Downloading hyperframe-5.2.0-py2.py3-none-any.whl (12 kB)\n",
      "Building wheels for collected packages: googletrans\n",
      "  Building wheel for googletrans (setup.py) ... \u001b[?25ldone\n",
      "\u001b[?25h  Created wheel for googletrans: filename=googletrans-4.0.0rc1-py3-none-any.whl size=17397 sha256=222393b6c60e2193af87aa2bdaa36a7265c2663b1b9e2f34050cefb36912b759\n",
      "  Stored in directory: /Users/ataberkfirat/Library/Caches/pip/wheels/95/0f/04/b17a72024b56a60e499ce1a6313d283ed5ba332407155bee03\n",
      "Successfully built googletrans\n",
      "Installing collected packages: rfc3986, hyperframe, hpack, h11, chardet, idna, hstspreload, h2, httpcore, httpx, googletrans\n",
      "  Attempting uninstall: h11\n",
      "    Found existing installation: h11 0.14.0\n",
      "    Uninstalling h11-0.14.0:\n",
      "      Successfully uninstalled h11-0.14.0\n",
      "  Attempting uninstall: chardet\n",
      "    Found existing installation: chardet 4.0.0\n",
      "    Uninstalling chardet-4.0.0:\n",
      "      Successfully uninstalled chardet-4.0.0\n",
      "  Attempting uninstall: idna\n",
      "    Found existing installation: idna 3.7\n",
      "    Uninstalling idna-3.7:\n",
      "      Successfully uninstalled idna-3.7\n",
      "  Attempting uninstall: httpcore\n",
      "    Found existing installation: httpcore 1.0.2\n",
      "    Uninstalling httpcore-1.0.2:\n",
      "      Successfully uninstalled httpcore-1.0.2\n",
      "  Attempting uninstall: httpx\n",
      "    Found existing installation: httpx 0.27.0\n",
      "    Uninstalling httpx-0.27.0:\n",
      "      Successfully uninstalled httpx-0.27.0\n",
      "\u001b[31mERROR: pip's dependency resolver does not currently take into account all the packages that are installed. This behaviour is the source of the following dependency conflicts.\n",
      "jupyterlab 4.2.5 requires httpx>=0.25.0, but you have httpx 0.13.3 which is incompatible.\u001b[0m\u001b[31m\n",
      "\u001b[0mSuccessfully installed chardet-3.0.4 googletrans-4.0.0rc1 h11-0.9.0 h2-3.2.0 hpack-3.0.0 hstspreload-2024.11.1 httpcore-0.9.1 httpx-0.13.3 hyperframe-5.2.0 idna-2.10 rfc3986-1.5.0\n"
     ]
    }
   ],
   "source": [
    "!pip install googletrans==4.0.0-rc1"
   ]
  },
  {
   "cell_type": "code",
   "execution_count": 240,
   "id": "6053da7d-ab93-4ca6-b047-cab62769fc3f",
   "metadata": {},
   "outputs": [],
   "source": [
    "import time\n",
    "from tqdm import tqdm\n",
    "from googletrans import Translator\n",
    "\n",
    "translator = Translator()\n",
    "\n",
    "df_sch_russ = df_csv[(df_csv['Supported languages'].str.contains('chinese')) | \n",
    "                     (df_csv['Supported languages'].str.contains('russian'))].copy()"
   ]
  },
  {
   "cell_type": "code",
   "execution_count": 248,
   "id": "51573061-855e-4cae-a00b-3a367df49090",
   "metadata": {},
   "outputs": [
    {
     "name": "stdout",
     "output_type": "stream",
     "text": [
      "Series([], Name: Reviews, dtype: object)\n"
     ]
    }
   ],
   "source": [
    "print(df_sch_russ['Reviews'].head())"
   ]
  },
  {
   "cell_type": "code",
   "execution_count": 252,
   "id": "e9180eae-04c7-4e2e-97a0-573e268e8acd",
   "metadata": {},
   "outputs": [
    {
     "name": "stderr",
     "output_type": "stream",
     "text": [
      "0it [00:00, ?it/s]"
     ]
    },
    {
     "name": "stdout",
     "output_type": "stream",
     "text": [
      "Empty DataFrame\n",
      "Columns: [Reviews, Reviews_en]\n",
      "Index: []\n"
     ]
    },
    {
     "name": "stderr",
     "output_type": "stream",
     "text": [
      "\n"
     ]
    }
   ],
   "source": [
    "df_sch_russ_subset = df_sch_russ.head(5)\n",
    "df_sch_russ_subset['Reviews_en'] = df_sch_russ_subset['Reviews'].progress_apply(translate_review)\n",
    "print(df_sch_russ_subset[['Reviews', 'Reviews_en']])"
   ]
  },
  {
   "cell_type": "code",
   "execution_count": 256,
   "id": "9f1089d1-6a57-4b90-ad2a-2632ef4ae93f",
   "metadata": {},
   "outputs": [
    {
     "name": "stdout",
     "output_type": "stream",
     "text": [
      "Shape of df_sch_russ: (0, 41)\n",
      "Empty DataFrame\n",
      "Columns: [AppID, Name, Release date, Estimated owners, Peak CCU, Required age, Price, DiscountDLC count, About the game, Supported languages, Full audio languages, Reviews, Header image, Website, Support url, Support email, Windows, Mac, Linux, Metacritic score, Metacritic url, User score, Positive, Negative, Score rank, Achievements, Recommendations, Notes, Average playtime forever, Average playtime two weeks, Median playtime forever, Median playtime two weeks, Developers, Publishers, Categories, Genres, Tags, Screenshots, Movies, review_en, Reviews_en]\n",
      "Index: []\n",
      "\n",
      "[0 rows x 41 columns]\n"
     ]
    }
   ],
   "source": [
    "print(\"Shape of df_sch_russ:\", df_sch_russ.shape)\n",
    "print(df_sch_russ.head())\n"
   ]
  },
  {
   "cell_type": "code",
   "execution_count": 258,
   "id": "9b61993f-6983-449d-bf81-60561ce1e81f",
   "metadata": {},
   "outputs": [
    {
     "name": "stdout",
     "output_type": "stream",
     "text": [
      "[\"['English']\"\n",
      " \"['English', 'French', 'Italian', 'German', 'Spanish - Spain', 'Japanese', 'Portuguese - Brazil', 'Russian', 'Simplified Chinese', 'Traditional Chinese']\"\n",
      " \"['English', 'Portuguese - Brazil']\" ...\n",
      " \"['English', 'French', 'Japanese', 'Korean', 'Portuguese - Portugal', 'Russian', 'Simplified Chinese', 'Traditional Chinese', 'Vietnamese']\"\n",
      " \"['English', 'Russian', 'Ukrainian', 'Spanish - Spain', 'Portuguese - Portugal']\"\n",
      " \"['English', 'French', 'Italian', 'German', 'Spanish - Spain', 'Simplified Chinese', 'Japanese', 'Korean', 'Polish', 'Russian', 'Portuguese - Brazil']\"]\n"
     ]
    }
   ],
   "source": [
    "print(df_csv['Supported languages'].unique())\n"
   ]
  },
  {
   "cell_type": "code",
   "execution_count": 260,
   "id": "907da047-8937-46ce-8e93-043981732be7",
   "metadata": {},
   "outputs": [],
   "source": [
    "df_sch_russ = df_csv[df_csv['Supported languages'].str.contains('schinese|russian', case=False, na=False)].copy()\n"
   ]
  },
  {
   "cell_type": "code",
   "execution_count": 262,
   "id": "7d542346-f92f-40f4-82f3-9fba30193530",
   "metadata": {},
   "outputs": [
    {
     "name": "stdout",
     "output_type": "stream",
     "text": [
      "Shape of df_sch_russ: (19791, 39)\n",
      "                             AppID          Name    Release date  \\\n",
      "655370                Train Bandit  Oct 12, 2017       0 - 20000   \n",
      "1355720                   Henosis™  Jul 23, 2020       0 - 20000   \n",
      "1659180                  TD Worlds   Jan 9, 2022       0 - 20000   \n",
      "1178150      MazM: Jekyll and Hyde   Apr 2, 2020       0 - 20000   \n",
      "320150   Deadlings: Rotten Edition  Nov 11, 2014  50000 - 100000   \n",
      "\n",
      "         Estimated owners  Peak CCU  Required age  Price  DiscountDLC count  \\\n",
      "655370                  0         0          0.99      0                  0   \n",
      "1355720                 0         0          5.99      0                  0   \n",
      "1659180                 3         0         10.99      0                  1   \n",
      "1178150                 1         0         14.99      0                  0   \n",
      "320150                  0         0          3.99      0                  0   \n",
      "\n",
      "                                            About the game  \\\n",
      "655370   THE LAW!! Looks to be a showdown atop a train....   \n",
      "1355720  HENOSIS™ is a mysterious 2D Platform Puzzler w...   \n",
      "1659180  TD Worlds is a dynamic, highly strategical gam...   \n",
      "1178150  'MazM: Jekyll and Hyde' is a darkly entertaini...   \n",
      "320150   Death is lonely. He has zero friends on his Fa...   \n",
      "\n",
      "                                       Supported languages  ...  \\\n",
      "655370   ['English', 'French', 'Italian', 'German', 'Sp...  ...   \n",
      "1355720  ['English', 'French', 'Italian', 'German', 'Sp...  ...   \n",
      "1659180                   ['English', 'Russian', 'Danish']  ...   \n",
      "1178150  ['English', 'French', 'Italian', 'German', 'Sp...  ...   \n",
      "320150   ['English', 'Polish', 'French', 'Italian', 'Ge...  ...   \n",
      "\n",
      "        Average playtime two weeks Median playtime forever  \\\n",
      "655370                           0                       0   \n",
      "1355720                          0                       0   \n",
      "1659180                          0                       0   \n",
      "1178150                          0                       0   \n",
      "320150                           0                     782   \n",
      "\n",
      "        Median playtime two weeks         Developers         Publishers  \\\n",
      "655370                          0       Rusty Moyher       Wild Rooster   \n",
      "1355720                         0  Odd Critter Games  Odd Critter Games   \n",
      "1659180                         0      MAKSIM VOLKAU      MAKSIM VOLKAU   \n",
      "1178150                         0      Growing Seeds      CFK Co., Ltd.   \n",
      "320150                          0     ONE MORE LEVEL     ONE MORE LEVEL   \n",
      "\n",
      "                                                Categories  \\\n",
      "655370   Single-player,Steam Achievements,Full controll...   \n",
      "1355720              Single-player,Full controller support   \n",
      "1659180       Single-player,Steam Achievements,Steam Cloud   \n",
      "1178150  Single-player,Steam Achievements,Full controll...   \n",
      "320150   Single-player,Steam Achievements,Steam Trading...   \n",
      "\n",
      "                                    Genres  \\\n",
      "655370                        Action,Indie   \n",
      "1355720             Adventure,Casual,Indie   \n",
      "1659180                     Indie,Strategy   \n",
      "1178150  Adventure,RPG,Simulation,Strategy   \n",
      "320150              Action,Adventure,Indie   \n",
      "\n",
      "                                                      Tags  \\\n",
      "655370   Indie,Action,Pixel Graphics,2D,Retro,Arcade,Sc...   \n",
      "1355720  2D Platformer,Atmospheric,Surreal,Mystery,Puzz...   \n",
      "1659180  Tower Defense,Rogue-lite,RTS,Replay Value,Perm...   \n",
      "1178150  Adventure,Simulation,RPG,Strategy,Singleplayer...   \n",
      "320150   Action,Indie,Adventure,Puzzle-Platformer,Arcad...   \n",
      "\n",
      "                                               Screenshots  \\\n",
      "655370   https://cdn.akamai.steamstatic.com/steam/apps/...   \n",
      "1355720  https://cdn.akamai.steamstatic.com/steam/apps/...   \n",
      "1659180  https://cdn.akamai.steamstatic.com/steam/apps/...   \n",
      "1178150  https://cdn.akamai.steamstatic.com/steam/apps/...   \n",
      "320150   https://cdn.akamai.steamstatic.com/steam/apps/...   \n",
      "\n",
      "                                                    Movies  \n",
      "655370   http://cdn.akamai.steamstatic.com/steam/apps/2...  \n",
      "1355720  http://cdn.akamai.steamstatic.com/steam/apps/2...  \n",
      "1659180  http://cdn.akamai.steamstatic.com/steam/apps/2...  \n",
      "1178150  http://cdn.akamai.steamstatic.com/steam/apps/2...  \n",
      "320150   http://cdn.akamai.steamstatic.com/steam/apps/2...  \n",
      "\n",
      "[5 rows x 39 columns]\n"
     ]
    }
   ],
   "source": [
    "print(\"Shape of df_sch_russ:\", df_sch_russ.shape)\n",
    "print(df_sch_russ.head())\n"
   ]
  },
  {
   "cell_type": "code",
   "execution_count": null,
   "id": "17062268-4353-4a43-8b50-11615a38c809",
   "metadata": {},
   "outputs": [
    {
     "name": "stderr",
     "output_type": "stream",
     "text": [
      "  0%|                                                 | 0/19791 [00:00<?, ?it/s]"
     ]
    },
    {
     "name": "stdout",
     "output_type": "stream",
     "text": [
      "Translating: nan\n"
     ]
    },
    {
     "name": "stderr",
     "output_type": "stream",
     "text": [
      "  0%|                                         | 2/19791 [00:00<36:23,  9.06it/s]"
     ]
    },
    {
     "name": "stdout",
     "output_type": "stream",
     "text": [
      "Translating: nan\n"
     ]
    },
    {
     "name": "stderr",
     "output_type": "stream",
     "text": [
      "  0%|                                         | 4/19791 [00:00<55:53,  5.90it/s]"
     ]
    },
    {
     "name": "stdout",
     "output_type": "stream",
     "text": [
      "Translating: nan\n",
      "Translating: nan\n"
     ]
    },
    {
     "name": "stderr",
     "output_type": "stream",
     "text": [
      "  0%|                                       | 6/19791 [00:01<1:02:56,  5.24it/s]"
     ]
    },
    {
     "name": "stdout",
     "output_type": "stream",
     "text": [
      "Translating: nan\n",
      "Translating: “New WW2 Strategy Game Offers A Harrowing Look At Poland's Ill-Fated 1944 Uprising” GameSpot “(…) in execution Warsaw manages to deliver its own experience entirely.” Dualshockers “(…) Beautiful hand-painted artwork and turn-based combat (…)” Gameinformer\n"
     ]
    },
    {
     "name": "stderr",
     "output_type": "stream",
     "text": [
      "  0%|                                       | 7/19791 [00:01<1:05:49,  5.01it/s]"
     ]
    },
    {
     "name": "stdout",
     "output_type": "stream",
     "text": [
      "Translating: “Hero of the Kingdom II is a title that casual gamers should find to be very enjoyable, especially those who have appreciated the prequel.” 4.0/5 – Softpedia\n"
     ]
    },
    {
     "name": "stderr",
     "output_type": "stream",
     "text": [
      "  0%|                                       | 8/19791 [00:01<1:08:01,  4.85it/s]"
     ]
    },
    {
     "name": "stdout",
     "output_type": "stream",
     "text": [
      "Translating: nan\n"
     ]
    },
    {
     "name": "stderr",
     "output_type": "stream",
     "text": [
      "  0%|                                       | 9/19791 [00:01<1:10:08,  4.70it/s]"
     ]
    },
    {
     "name": "stdout",
     "output_type": "stream",
     "text": [
      "Translating: nan\n"
     ]
    },
    {
     "name": "stderr",
     "output_type": "stream",
     "text": [
      "  0%|                                      | 10/19791 [00:01<1:11:42,  4.60it/s]"
     ]
    },
    {
     "name": "stdout",
     "output_type": "stream",
     "text": [
      "Translating: nan\n"
     ]
    },
    {
     "name": "stderr",
     "output_type": "stream",
     "text": [
      "  0%|                                      | 11/19791 [00:02<1:12:21,  4.56it/s]"
     ]
    },
    {
     "name": "stdout",
     "output_type": "stream",
     "text": [
      "Translating: nan\n"
     ]
    },
    {
     "name": "stderr",
     "output_type": "stream",
     "text": [
      "  0%|                                      | 13/19791 [00:02<1:10:02,  4.71it/s]"
     ]
    },
    {
     "name": "stdout",
     "output_type": "stream",
     "text": [
      "Translating: “Reigns: Game of Thrones is so much better than any other attempt to bring Game of Thrones to video games so far.” Digitally Downloaded “A Westerosi romp with welcome wrinkles to the established Reigns formula” Gamespot “Reigns is probably the best Game of Thrones game we’ve played to date.” Trusted Reviews\n",
      "Translating: nan\n"
     ]
    },
    {
     "name": "stderr",
     "output_type": "stream",
     "text": [
      "  0%|                                      | 14/19791 [00:02<1:09:15,  4.76it/s]"
     ]
    },
    {
     "name": "stdout",
     "output_type": "stream",
     "text": [
      "Translating: nan\n"
     ]
    },
    {
     "name": "stderr",
     "output_type": "stream",
     "text": [
      "  0%|                                      | 15/19791 [00:02<1:09:13,  4.76it/s]"
     ]
    },
    {
     "name": "stdout",
     "output_type": "stream",
     "text": [
      "Translating: nan\n"
     ]
    },
    {
     "name": "stderr",
     "output_type": "stream",
     "text": [
      "  0%|                                      | 17/19791 [00:03<1:09:12,  4.76it/s]"
     ]
    },
    {
     "name": "stdout",
     "output_type": "stream",
     "text": [
      "Translating: nan\n",
      "Translating: nan\n"
     ]
    },
    {
     "name": "stderr",
     "output_type": "stream",
     "text": [
      "  0%|                                      | 19/19791 [00:03<1:07:47,  4.86it/s]"
     ]
    },
    {
     "name": "stdout",
     "output_type": "stream",
     "text": [
      "Translating: “Wholly unique gaming experience that has to be played to be believed” AdventureGamers “A psychological horror masterpiece” Nerdvanamedia “Positively oozes personality” ScaredToPlay\n",
      "Translating: nan\n"
     ]
    },
    {
     "name": "stderr",
     "output_type": "stream",
     "text": [
      "  0%|                                      | 20/19791 [00:04<1:07:56,  4.85it/s]"
     ]
    },
    {
     "name": "stdout",
     "output_type": "stream",
     "text": [
      "Translating: nan\n"
     ]
    },
    {
     "name": "stderr",
     "output_type": "stream",
     "text": [
      "  0%|                                      | 21/19791 [00:04<1:10:52,  4.65it/s]"
     ]
    },
    {
     "name": "stdout",
     "output_type": "stream",
     "text": [
      "Translating: nan\n"
     ]
    },
    {
     "name": "stderr",
     "output_type": "stream",
     "text": [
      "  0%|                                      | 22/19791 [00:04<1:12:29,  4.54it/s]"
     ]
    },
    {
     "name": "stdout",
     "output_type": "stream",
     "text": [
      "Translating: nan\n"
     ]
    },
    {
     "name": "stderr",
     "output_type": "stream",
     "text": [
      "  0%|                                      | 23/19791 [00:04<1:11:37,  4.60it/s]"
     ]
    },
    {
     "name": "stdout",
     "output_type": "stream",
     "text": [
      "Translating: nan\n"
     ]
    },
    {
     "name": "stderr",
     "output_type": "stream",
     "text": [
      "  0%|                                      | 24/19791 [00:04<1:12:53,  4.52it/s]"
     ]
    },
    {
     "name": "stdout",
     "output_type": "stream",
     "text": [
      "Translating: nan\n"
     ]
    },
    {
     "name": "stderr",
     "output_type": "stream",
     "text": [
      "  0%|                                      | 25/19791 [00:05<1:12:57,  4.51it/s]"
     ]
    },
    {
     "name": "stdout",
     "output_type": "stream",
     "text": [
      "Translating: nan\n"
     ]
    },
    {
     "name": "stderr",
     "output_type": "stream",
     "text": [
      "  0%|                                      | 27/19791 [00:05<1:06:48,  4.93it/s]"
     ]
    },
    {
     "name": "stdout",
     "output_type": "stream",
     "text": [
      "Translating: “You know that scene in 'Mad Max: Fury Road' where the cars are coming out after the good guys and they start drumming and rocking on the front of this war vehicle? That’s this whole game — every song is you feeling like you’re out there getting your crew to go faster and it’s just brilliant.” UploadVR “Ragnarock is a must-own title for anyone with a VR setup. It’s simply glorious!” Game Chronicles “Ragnarock is a fantastic new addition to the rhythm action genre and is one of the most enjoyable games to hit VR” The Sixth Axis\n",
      "Translating: nan\n"
     ]
    },
    {
     "name": "stderr",
     "output_type": "stream",
     "text": [
      "  0%|                                      | 28/19791 [00:05<1:07:42,  4.86it/s]"
     ]
    },
    {
     "name": "stdout",
     "output_type": "stream",
     "text": [
      "Translating: nan\n"
     ]
    },
    {
     "name": "stderr",
     "output_type": "stream",
     "text": [
      "  0%|                                      | 29/19791 [00:05<1:09:25,  4.74it/s]"
     ]
    },
    {
     "name": "stdout",
     "output_type": "stream",
     "text": [
      "Translating: nan\n"
     ]
    },
    {
     "name": "stderr",
     "output_type": "stream",
     "text": [
      "  0%|                                      | 30/19791 [00:06<1:09:35,  4.73it/s]"
     ]
    },
    {
     "name": "stdout",
     "output_type": "stream",
     "text": [
      "Translating: nan\n"
     ]
    },
    {
     "name": "stderr",
     "output_type": "stream",
     "text": [
      "  0%|                                      | 31/19791 [00:06<1:11:19,  4.62it/s]"
     ]
    },
    {
     "name": "stdout",
     "output_type": "stream",
     "text": [
      "Translating: nan\n"
     ]
    },
    {
     "name": "stderr",
     "output_type": "stream",
     "text": [
      "  0%|                                      | 32/19791 [00:06<1:10:52,  4.65it/s]"
     ]
    },
    {
     "name": "stdout",
     "output_type": "stream",
     "text": [
      "Translating: nan\n"
     ]
    },
    {
     "name": "stderr",
     "output_type": "stream",
     "text": [
      "  0%|                                      | 33/19791 [00:06<1:14:37,  4.41it/s]"
     ]
    },
    {
     "name": "stdout",
     "output_type": "stream",
     "text": [
      "Translating: “The skiing feels good.” VRheadset “This is a cool early access skiing game. It's a good variation for your cardio / upper body workout. To burn extra calories, instead of finishing the course, turn around and ski back up the hill! There's a shooting range as well if you want some target practice.” Explore VR\n"
     ]
    },
    {
     "name": "stderr",
     "output_type": "stream",
     "text": [
      "  0%|                                      | 35/19791 [00:07<1:08:25,  4.81it/s]"
     ]
    },
    {
     "name": "stdout",
     "output_type": "stream",
     "text": [
      "Translating: “Journey stands as a prime example of the truly remarkable things that can be done via this medium.” 10/10 – Giant Bomb “The mechanics are simple, but they establish a direct connection to the heart.” 10/10 – Gamespot “Journey's visual and sound design sets new standards for interactive entertainment. This alone makes it an extraordinary work, but it's the way that these aesthetic elements come together with beautifully subtle direction and storytelling to create a lasting emotional effect that elevates this to one of the very best games of our time.” 10/10 – The Guardian\n",
      "Translating: “Hours of enjoyment, and limitless pointless possibilities” 10/10 – NullReferenceException “Now this is epic” 5/5 – Toomuch Entertainment “This game looks so fun” 9/10 – Wakabuggie\n"
     ]
    },
    {
     "name": "stderr",
     "output_type": "stream",
     "text": [
      "  0%|                                      | 36/19791 [00:07<1:10:24,  4.68it/s]"
     ]
    },
    {
     "name": "stdout",
     "output_type": "stream",
     "text": [
      "Translating: nan\n"
     ]
    },
    {
     "name": "stderr",
     "output_type": "stream",
     "text": [
      "  0%|                                      | 38/19791 [00:07<1:05:49,  5.00it/s]"
     ]
    },
    {
     "name": "stdout",
     "output_type": "stream",
     "text": [
      "Translating: “With this rich, emotional overlay, coupled with some deep, appealing mechanics, CHANGE is an enthralling survival experience from start to finish.” New Game Network “Change is a gritty, hand-crafted, labor of love that transcends its simple, pixilated aesthetic. It asks questions of the player which will hopefully be pondered at some point during playthroughs. I know I did.” CyberPowerPC “PREVIEW: ...the game says a bit more, a bit more deeply, about being homeless. And it starts to sink in, the bleak reality, even though the graphics are pixelated and even though it is, inescapably, a game experience.” Eurogamer\n",
      "Translating: nan\n"
     ]
    },
    {
     "name": "stderr",
     "output_type": "stream",
     "text": [
      "  0%|                                      | 39/19791 [00:08<1:10:14,  4.69it/s]"
     ]
    },
    {
     "name": "stdout",
     "output_type": "stream",
     "text": [
      "Translating: nan\n"
     ]
    },
    {
     "name": "stderr",
     "output_type": "stream",
     "text": [
      "  0%|                                      | 40/19791 [00:08<1:09:56,  4.71it/s]"
     ]
    },
    {
     "name": "stdout",
     "output_type": "stream",
     "text": [
      "Translating: nan\n"
     ]
    },
    {
     "name": "stderr",
     "output_type": "stream",
     "text": [
      "  0%|                                      | 41/19791 [00:08<1:09:47,  4.72it/s]"
     ]
    },
    {
     "name": "stdout",
     "output_type": "stream",
     "text": [
      "Translating: nan\n"
     ]
    },
    {
     "name": "stderr",
     "output_type": "stream",
     "text": [
      "  0%|                                      | 42/19791 [00:08<1:09:47,  4.72it/s]"
     ]
    },
    {
     "name": "stdout",
     "output_type": "stream",
     "text": [
      "Translating: nan\n"
     ]
    },
    {
     "name": "stderr",
     "output_type": "stream",
     "text": [
      "  0%|                                      | 43/19791 [00:08<1:11:33,  4.60it/s]"
     ]
    },
    {
     "name": "stdout",
     "output_type": "stream",
     "text": [
      "Translating: nan\n"
     ]
    },
    {
     "name": "stderr",
     "output_type": "stream",
     "text": [
      "  0%|                                      | 44/19791 [00:09<1:12:06,  4.56it/s]"
     ]
    },
    {
     "name": "stdout",
     "output_type": "stream",
     "text": [
      "Translating: nan\n"
     ]
    },
    {
     "name": "stderr",
     "output_type": "stream",
     "text": [
      "  0%|                                      | 45/19791 [00:09<1:11:53,  4.58it/s]"
     ]
    },
    {
     "name": "stdout",
     "output_type": "stream",
     "text": [
      "Translating: nan\n"
     ]
    },
    {
     "name": "stderr",
     "output_type": "stream",
     "text": [
      "  0%|                                      | 46/19791 [00:09<1:12:02,  4.57it/s]"
     ]
    },
    {
     "name": "stdout",
     "output_type": "stream",
     "text": [
      "Translating: nan\n"
     ]
    },
    {
     "name": "stderr",
     "output_type": "stream",
     "text": [
      "  0%|                                      | 48/19791 [00:10<1:11:43,  4.59it/s]"
     ]
    },
    {
     "name": "stdout",
     "output_type": "stream",
     "text": [
      "Translating: “As simulation games go few can match Valhalla Hills […]. It combines all the best parts of other simulation games into one great package.” 4/5 – Nerd Age “I was right at home when playing Valhalla Hills. It carries the spirit of strategy simulations like Settlers and Cultures really well.” Gamestar “Valhalla Hills is a fun game that any fan of The Settlers or any similar game would enjoy.” 8/10 – Tenton Hammer\n",
      "Translating: nan\n"
     ]
    },
    {
     "name": "stderr",
     "output_type": "stream",
     "text": [
      "  0%|                                      | 49/19791 [00:10<1:10:44,  4.65it/s]"
     ]
    },
    {
     "name": "stdout",
     "output_type": "stream",
     "text": [
      "Translating: nan\n"
     ]
    },
    {
     "name": "stderr",
     "output_type": "stream",
     "text": [
      "  0%|                                      | 50/19791 [00:10<1:09:55,  4.71it/s]"
     ]
    },
    {
     "name": "stdout",
     "output_type": "stream",
     "text": [
      "Translating: nan\n"
     ]
    },
    {
     "name": "stderr",
     "output_type": "stream",
     "text": [
      "  0%|                                      | 51/19791 [00:10<1:17:50,  4.23it/s]"
     ]
    },
    {
     "name": "stdout",
     "output_type": "stream",
     "text": [
      "Translating: nan\n"
     ]
    },
    {
     "name": "stderr",
     "output_type": "stream",
     "text": [
      "  0%|                                      | 52/19791 [00:11<1:17:13,  4.26it/s]"
     ]
    },
    {
     "name": "stdout",
     "output_type": "stream",
     "text": [
      "Translating: “All things are possible in this beautifully observed visual novel.” Rock Paper Shotgun “One Night Stand is a small, polished slice of what feels like a real human interaction.” Kotaku “This is the kind of indie experimental experience that proves games really can cover a gamut of emotions.” Playboy\n"
     ]
    },
    {
     "name": "stderr",
     "output_type": "stream",
     "text": [
      "  0%|                                      | 54/19791 [00:11<1:11:59,  4.57it/s]"
     ]
    },
    {
     "name": "stdout",
     "output_type": "stream",
     "text": [
      "Translating: “It’s a solid game, full of wit and humor.” PC Games n News “The look and design appealed enormously.” GameBoomers “If you love sci-fi, the theme of isolation, and weird animal astronauts, you’ll have a good time with Tales of Cosmos.” GameSkinny\n",
      "Translating: nan\n"
     ]
    },
    {
     "name": "stderr",
     "output_type": "stream",
     "text": [
      "  0%|                                      | 55/19791 [00:11<1:11:18,  4.61it/s]"
     ]
    },
    {
     "name": "stdout",
     "output_type": "stream",
     "text": [
      "Translating: nan\n"
     ]
    },
    {
     "name": "stderr",
     "output_type": "stream",
     "text": [
      "  0%|                                      | 57/19791 [00:12<1:07:36,  4.86it/s]"
     ]
    },
    {
     "name": "stdout",
     "output_type": "stream",
     "text": [
      "Translating: “Interesting mechanics, exciting story and a few bugs make this global strategy game great choice for all the lovers of foreign affairs and military interventions” 8/10 – Gamefun “Realpolitiks is a very fun, polished, easy to use grand strategy game that will suck up your time and you won’t regret any of it” 8/10 – Voletic “Realpolitiks is the right solution for anyone who wants to try their hand at the role of leader of one of the world superpowers or even a state of minor importance” 7.5/10 –\n",
      "Translating: “Ultra Hat Dimension is a perfect example of how wonderful things can happen if you polish up a simple idea and execute it well. If you like your puzzle games smart and heavy on the charm, this is the title for you.” Jay Is Games “Contrary to how it may at first sound, Ultra Hat Dimension is not a washed up European trance DJ duo, but is an excellent puzzle game that features all of the aforementioned head dressings.” Rock Paper Shotgun\n"
     ]
    },
    {
     "name": "stderr",
     "output_type": "stream",
     "text": [
      "  0%|                                      | 58/19791 [00:12<1:38:31,  3.34it/s]"
     ]
    },
    {
     "name": "stdout",
     "output_type": "stream",
     "text": [
      "Translating: nan\n"
     ]
    },
    {
     "name": "stderr",
     "output_type": "stream",
     "text": [
      "  0%|                                      | 59/19791 [00:12<1:34:59,  3.46it/s]"
     ]
    },
    {
     "name": "stdout",
     "output_type": "stream",
     "text": [
      "Translating: nan\n"
     ]
    },
    {
     "name": "stderr",
     "output_type": "stream",
     "text": [
      "  0%|                                      | 60/19791 [00:13<1:27:51,  3.74it/s]"
     ]
    },
    {
     "name": "stdout",
     "output_type": "stream",
     "text": [
      "Translating: nan\n"
     ]
    },
    {
     "name": "stderr",
     "output_type": "stream",
     "text": [
      "  0%|                                      | 61/19791 [00:13<1:21:26,  4.04it/s]"
     ]
    },
    {
     "name": "stdout",
     "output_type": "stream",
     "text": [
      "Translating: “WT:L has truly turned out to be a one-of-a-kind title. It's a rare case when a studio tackles a bold task and manages to create a game never seen before.” IGN “WT:L is a fantastic puzzle game” 8.5 – Culture Of Gaming “Want to understand neural networks? This game might teach you how.” PC Gamer\n"
     ]
    },
    {
     "name": "stderr",
     "output_type": "stream",
     "text": [
      "  0%|                                      | 62/19791 [00:13<1:17:39,  4.23it/s]"
     ]
    },
    {
     "name": "stdout",
     "output_type": "stream",
     "text": [
      "Translating: nan\n"
     ]
    },
    {
     "name": "stderr",
     "output_type": "stream",
     "text": [
      "  0%|                                      | 63/19791 [00:13<1:16:01,  4.33it/s]"
     ]
    },
    {
     "name": "stdout",
     "output_type": "stream",
     "text": [
      "Translating: nan\n"
     ]
    },
    {
     "name": "stderr",
     "output_type": "stream",
     "text": [
      "  0%|                                      | 64/19791 [00:13<1:16:56,  4.27it/s]"
     ]
    },
    {
     "name": "stdout",
     "output_type": "stream",
     "text": [
      "Translating: nan\n"
     ]
    },
    {
     "name": "stderr",
     "output_type": "stream",
     "text": [
      "  0%|                                      | 65/19791 [00:14<1:15:28,  4.36it/s]"
     ]
    },
    {
     "name": "stdout",
     "output_type": "stream",
     "text": [
      "Translating: nan\n"
     ]
    },
    {
     "name": "stderr",
     "output_type": "stream",
     "text": [
      "  0%|▏                                     | 66/19791 [00:14<1:13:53,  4.45it/s]"
     ]
    },
    {
     "name": "stdout",
     "output_type": "stream",
     "text": [
      "Translating: nan\n"
     ]
    },
    {
     "name": "stderr",
     "output_type": "stream",
     "text": [
      "  0%|▏                                     | 67/19791 [00:14<1:12:02,  4.56it/s]"
     ]
    },
    {
     "name": "stdout",
     "output_type": "stream",
     "text": [
      "Translating: nan\n"
     ]
    },
    {
     "name": "stderr",
     "output_type": "stream",
     "text": [
      "  0%|▏                                     | 68/19791 [00:14<1:13:34,  4.47it/s]"
     ]
    },
    {
     "name": "stdout",
     "output_type": "stream",
     "text": [
      "Translating: nan\n"
     ]
    },
    {
     "name": "stderr",
     "output_type": "stream",
     "text": [
      "  0%|▏                                     | 69/19791 [00:14<1:12:43,  4.52it/s]"
     ]
    },
    {
     "name": "stdout",
     "output_type": "stream",
     "text": [
      "Translating: nan\n"
     ]
    },
    {
     "name": "stderr",
     "output_type": "stream",
     "text": [
      "  0%|▏                                     | 70/19791 [00:15<1:11:29,  4.60it/s]"
     ]
    },
    {
     "name": "stdout",
     "output_type": "stream",
     "text": [
      "Translating: nan\n"
     ]
    },
    {
     "name": "stderr",
     "output_type": "stream",
     "text": [
      "  0%|▏                                     | 71/19791 [00:15<1:13:39,  4.46it/s]"
     ]
    },
    {
     "name": "stdout",
     "output_type": "stream",
     "text": [
      "Translating: nan\n"
     ]
    },
    {
     "name": "stderr",
     "output_type": "stream",
     "text": [
      "  0%|▏                                     | 72/19791 [00:15<1:14:35,  4.41it/s]"
     ]
    },
    {
     "name": "stdout",
     "output_type": "stream",
     "text": [
      "Translating: nan\n"
     ]
    },
    {
     "name": "stderr",
     "output_type": "stream",
     "text": [
      "  0%|▏                                     | 73/19791 [00:15<1:13:42,  4.46it/s]"
     ]
    },
    {
     "name": "stdout",
     "output_type": "stream",
     "text": [
      "Translating: nan\n"
     ]
    },
    {
     "name": "stderr",
     "output_type": "stream",
     "text": [
      "  0%|▏                                     | 74/19791 [00:16<1:12:59,  4.50it/s]"
     ]
    },
    {
     "name": "stdout",
     "output_type": "stream",
     "text": [
      "Translating: nan\n"
     ]
    },
    {
     "name": "stderr",
     "output_type": "stream",
     "text": [
      "  0%|▏                                     | 75/19791 [00:16<1:12:33,  4.53it/s]"
     ]
    },
    {
     "name": "stdout",
     "output_type": "stream",
     "text": [
      "Translating: nan\n"
     ]
    },
    {
     "name": "stderr",
     "output_type": "stream",
     "text": [
      "  0%|▏                                     | 76/19791 [00:16<1:12:08,  4.55it/s]"
     ]
    },
    {
     "name": "stdout",
     "output_type": "stream",
     "text": [
      "Translating: “Games are best when played full screen, but many won't play nice with Alt+Tab in full screen mode—which means you can't look at your browser for a guide or change the music playing in the background. Borderless Gaming fixes that problem.” LifeHacker “Without a doubt, this is essential software when considering how many publishers treat PC gaming as an afterthought.” dtyujb\n"
     ]
    },
    {
     "name": "stderr",
     "output_type": "stream",
     "text": [
      "  0%|▏                                     | 77/19791 [00:16<1:12:38,  4.52it/s]"
     ]
    },
    {
     "name": "stdout",
     "output_type": "stream",
     "text": [
      "Translating: nan\n"
     ]
    },
    {
     "name": "stderr",
     "output_type": "stream",
     "text": [
      "  0%|▏                                     | 78/19791 [00:16<1:12:14,  4.55it/s]"
     ]
    },
    {
     "name": "stdout",
     "output_type": "stream",
     "text": [
      "Translating: nan\n"
     ]
    },
    {
     "name": "stderr",
     "output_type": "stream",
     "text": [
      "  0%|▏                                     | 80/19791 [00:17<1:08:12,  4.82it/s]"
     ]
    },
    {
     "name": "stdout",
     "output_type": "stream",
     "text": [
      "Translating: 'The emotional investment in the game and its characters is impressive and the exceptional writing reinforces the connection to the world.' 8/10 – -expeditions-conquistador 'For me personally, this is one of the best and most unique games that I’ve played this year.' 9/10 - Hooked Gamers 'Expeditions: Conquistador is an entertaining and immersive experience from start to finish.' 9/10 - -conquistadors-review-heaps-of-historical-enjoyment/ 'Expeditions: Conquistador delivers a solid and engaging experience.' 'When it comes down to the boiling point, Expeditions: Conquistador is a highly recommended tactical role playing game.' -expeditions-conquistador-pc.html\n",
      "Translating: nan\n"
     ]
    },
    {
     "name": "stderr",
     "output_type": "stream",
     "text": [
      "  0%|▏                                     | 81/19791 [00:17<1:07:58,  4.83it/s]"
     ]
    },
    {
     "name": "stdout",
     "output_type": "stream",
     "text": [
      "Translating: nan\n"
     ]
    },
    {
     "name": "stderr",
     "output_type": "stream",
     "text": [
      "  0%|▏                                     | 82/19791 [00:17<1:08:09,  4.82it/s]"
     ]
    },
    {
     "name": "stdout",
     "output_type": "stream",
     "text": [
      "Translating: nan\n"
     ]
    },
    {
     "name": "stderr",
     "output_type": "stream",
     "text": [
      "  0%|▏                                     | 83/19791 [00:18<1:08:25,  4.80it/s]"
     ]
    },
    {
     "name": "stdout",
     "output_type": "stream",
     "text": [
      "Translating: nan\n"
     ]
    },
    {
     "name": "stderr",
     "output_type": "stream",
     "text": [
      "  0%|▏                                     | 84/19791 [00:18<1:09:13,  4.74it/s]"
     ]
    },
    {
     "name": "stdout",
     "output_type": "stream",
     "text": [
      "Translating: “Are you kidding me? That's a troll.” Jonathan Blow\n"
     ]
    },
    {
     "name": "stderr",
     "output_type": "stream",
     "text": [
      "  0%|▏                                     | 85/19791 [00:18<1:09:30,  4.72it/s]"
     ]
    },
    {
     "name": "stdout",
     "output_type": "stream",
     "text": [
      "Translating: “Good game” 10/10 – ФоркМэн [Youtubeъ - 350.000]\n"
     ]
    },
    {
     "name": "stderr",
     "output_type": "stream",
     "text": [
      "  0%|▏                                     | 86/19791 [00:19<2:20:23,  2.34it/s]"
     ]
    },
    {
     "name": "stdout",
     "output_type": "stream",
     "text": [
      "Translating: nan\n"
     ]
    },
    {
     "name": "stderr",
     "output_type": "stream",
     "text": [
      "  0%|▏                                     | 87/19791 [00:19<1:58:50,  2.76it/s]"
     ]
    },
    {
     "name": "stdout",
     "output_type": "stream",
     "text": [
      "Translating: nan\n"
     ]
    },
    {
     "name": "stderr",
     "output_type": "stream",
     "text": [
      "  0%|▏                                     | 88/19791 [00:19<1:47:01,  3.07it/s]"
     ]
    },
    {
     "name": "stdout",
     "output_type": "stream",
     "text": [
      "Translating: nan\n"
     ]
    },
    {
     "name": "stderr",
     "output_type": "stream",
     "text": [
      "  0%|▏                                     | 89/19791 [00:20<1:35:25,  3.44it/s]"
     ]
    },
    {
     "name": "stdout",
     "output_type": "stream",
     "text": [
      "Translating: “A title you should definitely play if you enjoy puzzles and enjoy a good story that is not spelled out for you.” 80/100 – 366GameReviews “I found Empathy: Path of Whispers to be incredible.” 80/100 – OPNoobs “The story might be the most interesting one I have encountered in the genre” 95/100 – The Inner Circle\n"
     ]
    },
    {
     "name": "stderr",
     "output_type": "stream",
     "text": [
      "  0%|▏                                     | 90/19791 [00:20<1:27:57,  3.73it/s]"
     ]
    },
    {
     "name": "stdout",
     "output_type": "stream",
     "text": [
      "Translating: nan\n"
     ]
    },
    {
     "name": "stderr",
     "output_type": "stream",
     "text": [
      "  0%|▏                                     | 91/19791 [00:20<1:28:40,  3.70it/s]"
     ]
    },
    {
     "name": "stdout",
     "output_type": "stream",
     "text": [
      "Translating: “4 Zones with different aesthetics 4 types of puzzles with a frisbee to solve And most importantly... 4 fun!” Steam Reviewer “this game is amazing! So much fun. It's been really fun to play!” Steam Reviewer\n"
     ]
    },
    {
     "name": "stderr",
     "output_type": "stream",
     "text": [
      "  0%|▏                                     | 92/19791 [00:20<1:26:01,  3.82it/s]"
     ]
    },
    {
     "name": "stdout",
     "output_type": "stream",
     "text": [
      "Translating: nan\n"
     ]
    },
    {
     "name": "stderr",
     "output_type": "stream",
     "text": [
      "  0%|▏                                     | 93/19791 [00:21<1:25:45,  3.83it/s]"
     ]
    },
    {
     "name": "stdout",
     "output_type": "stream",
     "text": [
      "Translating: “I have been ungodly addicted to this game...” The SML Podcast “Every time I thought I had experienced everything, I encountered something new and unexpected.” BleepBloop Reviews “One for hack ‘n’ slash fans to keep an eye out for...” GamersFTW\n"
     ]
    },
    {
     "name": "stderr",
     "output_type": "stream",
     "text": [
      "  0%|▏                                     | 94/19791 [00:21<1:21:46,  4.01it/s]"
     ]
    },
    {
     "name": "stdout",
     "output_type": "stream",
     "text": [
      "Translating: nan\n"
     ]
    },
    {
     "name": "stderr",
     "output_type": "stream",
     "text": [
      "  0%|▏                                     | 95/19791 [00:21<1:18:28,  4.18it/s]"
     ]
    },
    {
     "name": "stdout",
     "output_type": "stream",
     "text": [
      "Translating: nan\n"
     ]
    },
    {
     "name": "stderr",
     "output_type": "stream",
     "text": [
      "  0%|▏                                     | 97/19791 [00:21<1:17:57,  4.21it/s]"
     ]
    },
    {
     "name": "stdout",
     "output_type": "stream",
     "text": [
      "Translating: nan\n",
      "Translating: nan\n"
     ]
    },
    {
     "name": "stderr",
     "output_type": "stream",
     "text": [
      "  0%|▏                                     | 98/19791 [00:22<1:16:15,  4.30it/s]"
     ]
    },
    {
     "name": "stdout",
     "output_type": "stream",
     "text": [
      "Translating: “Graphics looks nice... this game kinda looks serious” DashieGames “Reminded me a lot of Resident Evil and Outlast 2” Neurobew “This could be promising after seeing the trailer at the end” Caspersight\n"
     ]
    },
    {
     "name": "stderr",
     "output_type": "stream",
     "text": [
      "  1%|▏                                     | 99/19791 [00:22<1:14:55,  4.38it/s]"
     ]
    },
    {
     "name": "stdout",
     "output_type": "stream",
     "text": [
      "Translating: nan\n"
     ]
    },
    {
     "name": "stderr",
     "output_type": "stream",
     "text": [
      "  1%|▏                                    | 101/19791 [00:22<1:10:55,  4.63it/s]"
     ]
    },
    {
     "name": "stdout",
     "output_type": "stream",
     "text": [
      "Translating: nan\n",
      "Translating: nan\n"
     ]
    },
    {
     "name": "stderr",
     "output_type": "stream",
     "text": [
      "  1%|▏                                    | 102/19791 [00:23<1:10:26,  4.66it/s]"
     ]
    },
    {
     "name": "stdout",
     "output_type": "stream",
     "text": [
      "Translating: nan\n"
     ]
    },
    {
     "name": "stderr",
     "output_type": "stream",
     "text": [
      "  1%|▏                                    | 103/19791 [00:23<1:13:39,  4.45it/s]"
     ]
    },
    {
     "name": "stdout",
     "output_type": "stream",
     "text": [
      "Translating: nan\n"
     ]
    },
    {
     "name": "stderr",
     "output_type": "stream",
     "text": [
      "  1%|▏                                    | 104/19791 [00:23<1:14:51,  4.38it/s]"
     ]
    },
    {
     "name": "stdout",
     "output_type": "stream",
     "text": [
      "Translating: nan\n"
     ]
    },
    {
     "name": "stderr",
     "output_type": "stream",
     "text": [
      "  1%|▏                                    | 105/19791 [00:23<1:15:32,  4.34it/s]"
     ]
    },
    {
     "name": "stdout",
     "output_type": "stream",
     "text": [
      "Translating: “醉汉视角的赛车游戏？Steam最近上线了一款非常魔性的独立搞笑游戏《醉驾模拟器》（《Need for Spirit: Drink &amp; Drive Simulator》），玩家扮演一名憨厚的货车司机师傅，游戏中最大的障碍是你浓郁的醉意[吐]，” 电玩巴士 - 520k followers on weibo - Alexa Rank - 20(global) “《醉驾模拟器》登陆Steam 深刻感悟醉驾带来的危害” GamerSky - Alexa Rank - 470(global) “DRIVING DRUNK? WHY NOT! l Need for Spirit Simulator - review on his gaming channel” LoreChirik - 740k youtube subscribers\n"
     ]
    },
    {
     "name": "stderr",
     "output_type": "stream",
     "text": [
      "  1%|▏                                    | 106/19791 [00:25<3:17:29,  1.66it/s]"
     ]
    },
    {
     "name": "stdout",
     "output_type": "stream",
     "text": [
      "Translating: nan\n"
     ]
    },
    {
     "name": "stderr",
     "output_type": "stream",
     "text": [
      "  1%|▏                                    | 107/19791 [00:25<2:40:59,  2.04it/s]"
     ]
    },
    {
     "name": "stdout",
     "output_type": "stream",
     "text": [
      "Translating: nan\n"
     ]
    },
    {
     "name": "stderr",
     "output_type": "stream",
     "text": [
      "  1%|▏                                    | 109/19791 [00:25<1:52:02,  2.93it/s]"
     ]
    },
    {
     "name": "stdout",
     "output_type": "stream",
     "text": [
      "Translating: nan\n",
      "Translating: nan\n"
     ]
    },
    {
     "name": "stderr",
     "output_type": "stream",
     "text": [
      "  1%|▏                                    | 111/19791 [00:26<1:29:46,  3.65it/s]"
     ]
    },
    {
     "name": "stdout",
     "output_type": "stream",
     "text": [
      "Translating: “Elegant, atmospheric, and energetic, [Julian] Gollop’s latest remains remarkably hard to put down.” 8/10 – PCGamesN “If you like XCOM then you’re going to love Phoenix Point.” 9/10 – Trusted Reviews “Phoenix Point is, without a doubt, one of the best strategy games to come out in the last few years.” 9/10 – Noisy Pixel\n",
      "Translating: “If you are in the mood for something restful, I’d say it’s well worth dipping a toe in the water.” Rock Paper Shotgun “Lumini is a beautiful, relaxing and captivating experience… even if you think it’s not for you, I urge you to grab a gamepad and spend some time with it” 9/10 – Entertainment Focus “The type of game where you find yourself making detours or flying in loops just because it feels awesome doing so” 9/10 – Gameramble\n"
     ]
    },
    {
     "name": "stderr",
     "output_type": "stream",
     "text": [
      "  1%|▏                                    | 112/19791 [00:26<1:21:44,  4.01it/s]"
     ]
    },
    {
     "name": "stdout",
     "output_type": "stream",
     "text": [
      "Translating: nan\n"
     ]
    },
    {
     "name": "stderr",
     "output_type": "stream",
     "text": [
      "  1%|▏                                    | 113/19791 [00:26<1:17:52,  4.21it/s]"
     ]
    },
    {
     "name": "stdout",
     "output_type": "stream",
     "text": [
      "Translating: nan\n"
     ]
    },
    {
     "name": "stderr",
     "output_type": "stream",
     "text": [
      "  1%|▏                                    | 114/19791 [00:26<1:18:20,  4.19it/s]"
     ]
    },
    {
     "name": "stdout",
     "output_type": "stream",
     "text": [
      "Translating: nan\n"
     ]
    },
    {
     "name": "stderr",
     "output_type": "stream",
     "text": [
      "  1%|▏                                    | 115/19791 [00:27<1:16:27,  4.29it/s]"
     ]
    },
    {
     "name": "stdout",
     "output_type": "stream",
     "text": [
      "Translating: nan\n"
     ]
    },
    {
     "name": "stderr",
     "output_type": "stream",
     "text": [
      "  1%|▏                                    | 116/19791 [00:27<1:14:09,  4.42it/s]"
     ]
    },
    {
     "name": "stdout",
     "output_type": "stream",
     "text": [
      "Translating: “Качественная реалистичная RTS, практически не имеющая современных аналогов и конкурентов и способная растопить сердце самого либерального любителя стратегий. А для патриотических тактиков это просто жемчужина.” 7.7 – Riot Pixels “Фанаты жанра в лице «Сирии» получили отличную стратегию — зрелищную, сложную и реалистичную, а также позволяющую почти для каждого боя придумать с полдесятка вариантов прохождения.” 8.0 – Игры@mail ru “Резюмируя (и перефразируя одного из персонажей “Белого солнца пустыни”) - за Державу НЕ обидно.” 8.4 – Gmbox\n"
     ]
    },
    {
     "name": "stderr",
     "output_type": "stream",
     "text": [
      "  1%|▏                                    | 117/19791 [00:28<3:26:06,  1.59it/s]"
     ]
    },
    {
     "name": "stdout",
     "output_type": "stream",
     "text": [
      "Translating: nan\n"
     ]
    },
    {
     "name": "stderr",
     "output_type": "stream",
     "text": [
      "  1%|▏                                    | 118/19791 [00:29<2:45:42,  1.98it/s]"
     ]
    },
    {
     "name": "stdout",
     "output_type": "stream",
     "text": [
      "Translating: nan\n"
     ]
    },
    {
     "name": "stderr",
     "output_type": "stream",
     "text": [
      "  1%|▏                                    | 119/19791 [00:29<2:18:49,  2.36it/s]"
     ]
    },
    {
     "name": "stdout",
     "output_type": "stream",
     "text": [
      "Translating: “BadLands RoadTrip is a promising open world physics based shooter with RPG elements” Alpha Beta Gamer “Give it a shot, if only for the pleasure of turning your lousy old pea shooter into a four-barreled semi-automatic revolver that shoots exploding rubber balls.”\n"
     ]
    },
    {
     "name": "stderr",
     "output_type": "stream",
     "text": [
      "  1%|▏                                    | 121/19791 [00:29<1:47:48,  3.04it/s]"
     ]
    },
    {
     "name": "stdout",
     "output_type": "stream",
     "text": [
      "Translating: nan\n",
      "Translating: nan\n"
     ]
    },
    {
     "name": "stderr",
     "output_type": "stream",
     "text": [
      "  1%|▏                                    | 122/19791 [00:30<1:37:00,  3.38it/s]"
     ]
    },
    {
     "name": "stdout",
     "output_type": "stream",
     "text": [
      "Translating: “Meant to be played over and over again... Building on the excellent Mini Metro that came before it, Mini Motorways is a great evolution of Dinosaur Polo Club's minimalist transport sim.” Bestest Best – Rock Paper Shotgun “A city builder that balances precision and beauty.” Essential – Eurogamer “Endlessly replayable, beautiful to look at and featuring engrossing gameplay, this is another roaring success.” Traxion\n"
     ]
    },
    {
     "name": "stderr",
     "output_type": "stream",
     "text": [
      "  1%|▏                                    | 123/19791 [00:30<1:28:22,  3.71it/s]"
     ]
    },
    {
     "name": "stdout",
     "output_type": "stream",
     "text": [
      "Translating: nan\n"
     ]
    },
    {
     "name": "stderr",
     "output_type": "stream",
     "text": [
      "  1%|▏                                    | 124/19791 [00:30<1:23:28,  3.93it/s]"
     ]
    },
    {
     "name": "stdout",
     "output_type": "stream",
     "text": [
      "Translating: nan\n"
     ]
    },
    {
     "name": "stderr",
     "output_type": "stream",
     "text": [
      "  1%|▏                                    | 125/19791 [00:30<1:20:35,  4.07it/s]"
     ]
    },
    {
     "name": "stdout",
     "output_type": "stream",
     "text": [
      "Translating: nan\n"
     ]
    },
    {
     "name": "stderr",
     "output_type": "stream",
     "text": [
      "  1%|▏                                    | 126/19791 [00:30<1:16:53,  4.26it/s]"
     ]
    }
   ],
   "source": [
    "# Initialize the translator and tqdm progress bar\n",
    "translator = Translator()\n",
    "tqdm.pandas()\n",
    "\n",
    "def translate_review(text):\n",
    "    print(\"Translating:\", text) \n",
    "    try:\n",
    "        return translator.translate(text, dest='en').text\n",
    "    except Exception as e:\n",
    "        print(f\"Error: {e}. Retrying after a brief wait...\")\n",
    "        time.sleep(1)\n",
    "        return ''\n",
    "\n",
    "df_sch_russ['Reviews_en'] = df_sch_russ['Reviews'].progress_apply(translate_review)\n"
   ]
  },
  {
   "cell_type": "code",
   "execution_count": null,
   "id": "6f8026a8-9aed-46c3-b380-1458eda0084a",
   "metadata": {},
   "outputs": [],
   "source": [
    "df_sch_russ['review'] = df_sch_russ['review_en']\n",
    "df_sch_russ.drop('review_en', axis=1, inplace=True)\n"
   ]
  },
  {
   "cell_type": "code",
   "execution_count": null,
   "id": "8f6ffe12-f613-4afa-954d-04fe9b94cbe9",
   "metadata": {},
   "outputs": [],
   "source": [
    "df_sch_russ['Reviews'] = df_sch_russ['review_en']\n",
    "df_sch_russ.drop('review_en', axis=1, inplace=True)\n",
    "\n",
    "df_sch_russ.dropna(subset = ['Reviews'], inplace=True)\n",
    "if 'Unnamed: 0' in df_sch_russ.columns:\n",
    "    df_sch_russ.drop('Unnamed: 0', axis=1, inplace=True)"
   ]
  },
  {
   "cell_type": "code",
   "execution_count": null,
   "id": "82f84aad-cb51-4396-af16-dc26c27a6ac9",
   "metadata": {},
   "outputs": [],
   "source": []
  }
 ],
 "metadata": {
  "kernelspec": {
   "display_name": "Python 3 (ipykernel)",
   "language": "python",
   "name": "python3"
  },
  "language_info": {
   "codemirror_mode": {
    "name": "ipython",
    "version": 3
   },
   "file_extension": ".py",
   "mimetype": "text/x-python",
   "name": "python",
   "nbconvert_exporter": "python",
   "pygments_lexer": "ipython3",
   "version": "3.12.7"
  }
 },
 "nbformat": 4,
 "nbformat_minor": 5
}
